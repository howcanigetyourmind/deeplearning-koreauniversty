{
  "nbformat": 4,
  "nbformat_minor": 0,
  "metadata": {
    "kernelspec": {
      "display_name": "Python3",
      "language": "python",
      "name": "python3"
    },
    "language_info": {
      "codemirror_mode": {
        "name": "ipython",
        "version": 3
      },
      "file_extension": ".py",
      "mimetype": "text/x-python",
      "name": "python",
      "nbconvert_exporter": "python",
      "pygments_lexer": "ipython3",
      "version": "3.6.4"
    },
    "colab": {
      "name": "EtcExample.ipynb",
      "version": "0.3.2",
      "provenance": [],
      "toc_visible": true,
      "include_colab_link": true
    }
  },
  "cells": [
    {
      "cell_type": "markdown",
      "metadata": {
        "id": "view-in-github",
        "colab_type": "text"
      },
      "source": [
        "<a href=\"https://colab.research.google.com/github/howcanigetyourmind/deeplearning-koreauniversty/blob/master/EtcExample.ipynb\" target=\"_parent\"><img src=\"https://colab.research.google.com/assets/colab-badge.svg\" alt=\"Open In Colab\"/></a>"
      ]
    },
    {
      "cell_type": "markdown",
      "metadata": {
        "id": "_wPJyBm8_jsQ",
        "colab_type": "text"
      },
      "source": [
        "# Load & Save, MSE, Confusion Matrix\n",
        "\n",
        "The code and comments are by NamJungGu <nowage@gmail.com> \n",
        "\n",
        "<a rel=\"license\" href=\"http://creativecommons.org/licenses/by-nc-sa/4.0/\"><img alt=\"Creative Commons License\" style=\"border-width:0\" src=\"https://i.creativecommons.org/l/by-nc-sa/4.0/88x31.png\" /></a><br />This work is licensed under a <a rel=\"license\" href=\"http://creativecommons.org/licenses/by-nc-sa/4.0/\">Creative Commons Attribution-NonCommercial-ShareAlike 4.0 International License</a>.\n",
        "\n",
        "\n",
        "\n",
        "\n"
      ]
    },
    {
      "cell_type": "markdown",
      "metadata": {
        "id": "CUA28g2R_jsT",
        "colab_type": "text"
      },
      "source": [
        "## 1. Save & Load"
      ]
    },
    {
      "cell_type": "markdown",
      "metadata": {
        "id": "EQ3uU5rv_jsW",
        "colab_type": "text"
      },
      "source": [
        "### Save"
      ]
    },
    {
      "cell_type": "code",
      "metadata": {
        "id": "NGg_dgmy_jsa",
        "colab_type": "code",
        "colab": {
          "base_uri": "https://localhost:8080/",
          "height": 369
        },
        "outputId": "389eaa40-d276-4567-f4d9-cb9864475b1f"
      },
      "source": [
        "import tensorflow as tf\n",
        "import numpy as np\n",
        "\n",
        "\n",
        "x=np.float32(np.random.rand(10,1))\n",
        "np.savetxt('./x.csv',x,fmt='%f',delimiter=',')\n",
        "print(x)\n",
        "y=np.float32(np.random.rand(10,1))\n",
        "np.savetxt('./y.csv',y,fmt='%f',delimiter=',')\n",
        "print(y)"
      ],
      "execution_count": 2,
      "outputs": [
        {
          "output_type": "stream",
          "text": [
            "[[0.2279348 ]\n",
            " [0.36145446]\n",
            " [0.8553355 ]\n",
            " [0.29722753]\n",
            " [0.44799012]\n",
            " [0.7986099 ]\n",
            " [0.5674364 ]\n",
            " [0.26034978]\n",
            " [0.73594314]\n",
            " [0.11621448]]\n",
            "[[0.50882584]\n",
            " [0.28158706]\n",
            " [0.92447346]\n",
            " [0.06642196]\n",
            " [0.08088451]\n",
            " [0.27330223]\n",
            " [0.38779625]\n",
            " [0.67178607]\n",
            " [0.464358  ]\n",
            " [0.7430047 ]]\n"
          ],
          "name": "stdout"
        }
      ]
    },
    {
      "cell_type": "markdown",
      "metadata": {
        "id": "gb1mmL4p_jsp",
        "colab_type": "text"
      },
      "source": [
        "## Load"
      ]
    },
    {
      "cell_type": "code",
      "metadata": {
        "id": "NndZC2Fi_jst",
        "colab_type": "code",
        "colab": {
          "base_uri": "https://localhost:8080/",
          "height": 193
        },
        "outputId": "cf801ea7-98ff-4b35-fc56-969d1201f216"
      },
      "source": [
        "x_load=np.loadtxt('./x.csv',delimiter=',')\n",
        "y_load=np.loadtxt('./y.csv',delimiter=',')\n",
        "arr=np.hstack([x,y])\n",
        "arr"
      ],
      "execution_count": 5,
      "outputs": [
        {
          "output_type": "execute_result",
          "data": {
            "text/plain": [
              "array([[0.2279348 , 0.50882584],\n",
              "       [0.36145446, 0.28158706],\n",
              "       [0.8553355 , 0.92447346],\n",
              "       [0.29722753, 0.06642196],\n",
              "       [0.44799012, 0.08088451],\n",
              "       [0.7986099 , 0.27330223],\n",
              "       [0.5674364 , 0.38779625],\n",
              "       [0.26034978, 0.67178607],\n",
              "       [0.73594314, 0.464358  ],\n",
              "       [0.11621448, 0.7430047 ]], dtype=float32)"
            ]
          },
          "metadata": {
            "tags": []
          },
          "execution_count": 5
        }
      ]
    },
    {
      "cell_type": "markdown",
      "metadata": {
        "id": "FekHLTFN_jtD",
        "colab_type": "text"
      },
      "source": [
        "## 2. MSE(Mean Squared Error)"
      ]
    },
    {
      "cell_type": "code",
      "metadata": {
        "id": "Gkg_MQtR_jtM",
        "colab_type": "code",
        "colab": {
          "base_uri": "https://localhost:8080/",
          "height": 34
        },
        "outputId": "0c2409fb-75cf-42c0-f108-abad5f39636a"
      },
      "source": [
        "y=np.array([1.,1.,1.,1.])\n",
        "yTarget=np.array([0.8, 1.1,1.2,1.1])\n",
        "np.square( (y-yTarget)**2  ).mean()\n",
        "\n"
      ],
      "execution_count": 9,
      "outputs": [
        {
          "output_type": "execute_result",
          "data": {
            "text/plain": [
              "0.0008499999999999993"
            ]
          },
          "metadata": {
            "tags": []
          },
          "execution_count": 9
        }
      ]
    },
    {
      "cell_type": "code",
      "metadata": {
        "id": "88rGxcF6CPaD",
        "colab_type": "code",
        "colab": {
          "base_uri": "https://localhost:8080/",
          "height": 52
        },
        "outputId": "d704004b-47a5-4dc9-dbe2-6a979838fd4c"
      },
      "source": [
        "\n",
        "\n",
        "a=[1,1,1]\n",
        "b=[2,2,2]\n",
        "print(a+b)\n",
        "print(y.__class__ , a.__class__)"
      ],
      "execution_count": 10,
      "outputs": [
        {
          "output_type": "stream",
          "text": [
            "[1, 1, 1, 2, 2, 2]\n",
            "<class 'numpy.ndarray'> <class 'list'>\n"
          ],
          "name": "stdout"
        }
      ]
    },
    {
      "cell_type": "code",
      "metadata": {
        "id": "LgmMYIYp_jtX",
        "colab_type": "code",
        "colab": {
          "base_uri": "https://localhost:8080/",
          "height": 52
        },
        "outputId": "8aa6b8a3-0098-40ec-f4b4-86b2d0cba764"
      },
      "source": [
        "# Example of a confusion matrix in Python\n",
        "from sklearn.metrics import confusion_matrix\n",
        "import pandas as pd \n",
        "import numpy as np\n",
        "import matplotlib.pyplot as plt\n",
        "\n",
        "\n",
        "\n",
        "expected = [1, 1, 0, 1, 0, 0, 1, 0, 0, 0]\n",
        "predicted = [1, 0, 0, 1, 0, 0, 1, 1, 1, 0]\n",
        "results = confusion_matrix(expected, predicted)\n",
        "print(results)"
      ],
      "execution_count": 11,
      "outputs": [
        {
          "output_type": "stream",
          "text": [
            "[[4 2]\n",
            " [1 3]]\n"
          ],
          "name": "stdout"
        }
      ]
    },
    {
      "cell_type": "code",
      "metadata": {
        "id": "BLMhz2hH_jti",
        "colab_type": "code",
        "colab": {
          "base_uri": "https://localhost:8080/",
          "height": 450
        },
        "outputId": "e4137b20-94cd-4a67-f569-a5ccd8e998c3"
      },
      "source": [
        "# fail나면 root계정에서  \"pip install seaborn\" 명령 실행할 것. \n",
        "\n",
        "import seaborn as sn\n",
        "\n",
        "df_cm = pd.DataFrame(results, range(2),\n",
        "                  range(2))\n",
        "plt.figure(figsize = (10,7))\n",
        "\n",
        "sn.heatmap(df_cm, annot=True)\n",
        "\n",
        "# 관리직으로 취업해도 이 code는 잘 이해해야 함.\n",
        "\n",
        "#expected =  [1,1,0,1,0,0,1,0,0,0]\n",
        "#predicted = [1,0,0,1,0,0,1,1,1,0]"
      ],
      "execution_count": 12,
      "outputs": [
        {
          "output_type": "execute_result",
          "data": {
            "text/plain": [
              "<matplotlib.axes._subplots.AxesSubplot at 0x7f40ccb6cac8>"
            ]
          },
          "metadata": {
            "tags": []
          },
          "execution_count": 12
        },
        {
          "output_type": "display_data",
          "data": {
            "image/png": "[encoded data removed]",
            "text/plain": [
              "<Figure size 720x504 with 2 Axes>"
            ]
          },
          "metadata": {
            "tags": []
          }
        }
      ]
    },
    {
      "cell_type": "markdown",
      "metadata": {
        "id": "M_WC0lPb_jtu",
        "colab_type": "text"
      },
      "source": [
        "## 4. Numpy Matrix Operation"
      ]
    },
    {
      "cell_type": "markdown",
      "metadata": {
        "id": "NU49oNtS_jt0",
        "colab_type": "text"
      },
      "source": [
        "### Matrix 만들기"
      ]
    },
    {
      "cell_type": "code",
      "metadata": {
        "id": "lrNjIIUV_jt4",
        "colab_type": "code",
        "colab": {
          "base_uri": "https://localhost:8080/",
          "height": 70
        },
        "outputId": "e4a117c2-f7b2-458d-f9d1-7a7d51a3e1e7"
      },
      "source": [
        "import numpy as np\n",
        "arr=np.array([[1,2,3],[4,5,6],[7,8,9]])\n",
        "arr"
      ],
      "execution_count": 13,
      "outputs": [
        {
          "output_type": "execute_result",
          "data": {
            "text/plain": [
              "array([[1, 2, 3],\n",
              "       [4, 5, 6],\n",
              "       [7, 8, 9]])"
            ]
          },
          "metadata": {
            "tags": []
          },
          "execution_count": 13
        }
      ]
    },
    {
      "cell_type": "markdown",
      "metadata": {
        "id": "LV1XgyhQ_juP",
        "colab_type": "text"
      },
      "source": [
        "### Column추출"
      ]
    },
    {
      "cell_type": "code",
      "metadata": {
        "id": "VMelamt-_juW",
        "colab_type": "code",
        "colab": {
          "base_uri": "https://localhost:8080/",
          "height": 70
        },
        "outputId": "8e460323-3578-4d7f-a80c-fc846e4d55e0"
      },
      "source": [
        "arr_data=arr[:,0:2]\n",
        "arr_data"
      ],
      "execution_count": 14,
      "outputs": [
        {
          "output_type": "execute_result",
          "data": {
            "text/plain": [
              "array([[1, 2],\n",
              "       [4, 5],\n",
              "       [7, 8]])"
            ]
          },
          "metadata": {
            "tags": []
          },
          "execution_count": 14
        }
      ]
    },
    {
      "cell_type": "code",
      "metadata": {
        "id": "czaVAARt_jum",
        "colab_type": "code",
        "colab": {
          "base_uri": "https://localhost:8080/",
          "height": 70
        },
        "outputId": "1a57deb1-d511-42d3-a7b2-e461cac4de85"
      },
      "source": [
        "arr_label=arr[:,2:3]\n",
        "arr_label"
      ],
      "execution_count": 16,
      "outputs": [
        {
          "output_type": "execute_result",
          "data": {
            "text/plain": [
              "array([[3],\n",
              "       [6],\n",
              "       [9]])"
            ]
          },
          "metadata": {
            "tags": []
          },
          "execution_count": 16
        }
      ]
    },
    {
      "cell_type": "markdown",
      "metadata": {
        "id": "74aMWbb2_ju2",
        "colab_type": "text"
      },
      "source": [
        "### 합치기 \n",
        "#### 열(column) 합치기"
      ]
    },
    {
      "cell_type": "code",
      "metadata": {
        "id": "pz0EwJFZ_ju6",
        "colab_type": "code",
        "colab": {
          "base_uri": "https://localhost:8080/",
          "height": 70
        },
        "outputId": "24a5db29-e3c2-40fe-942a-192b535bc8ec"
      },
      "source": [
        "np.hstack([arr_data,arr_label])"
      ],
      "execution_count": 17,
      "outputs": [
        {
          "output_type": "execute_result",
          "data": {
            "text/plain": [
              "array([[1, 2, 3],\n",
              "       [4, 5, 6],\n",
              "       [7, 8, 9]])"
            ]
          },
          "metadata": {
            "tags": []
          },
          "execution_count": 17
        }
      ]
    },
    {
      "cell_type": "markdown",
      "metadata": {
        "id": "p30cQQog_jvD",
        "colab_type": "text"
      },
      "source": [
        "#### 행(row) 합치기"
      ]
    },
    {
      "cell_type": "code",
      "metadata": {
        "id": "XUM77s2-_jvI",
        "colab_type": "code",
        "colab": {
          "base_uri": "https://localhost:8080/",
          "height": 122
        },
        "outputId": "3e54cf15-909f-4cf3-f98d-67bdf7e72838"
      },
      "source": [
        "arr1=np.array([[11,12],[13,14],[15,16]])\n",
        "arr2=np.array([[21,22],[23,24],[25,26]])\n",
        "np.vstack([arr1,arr2])\n"
      ],
      "execution_count": 18,
      "outputs": [
        {
          "output_type": "execute_result",
          "data": {
            "text/plain": [
              "array([[11, 12],\n",
              "       [13, 14],\n",
              "       [15, 16],\n",
              "       [21, 22],\n",
              "       [23, 24],\n",
              "       [25, 26]])"
            ]
          },
          "metadata": {
            "tags": []
          },
          "execution_count": 18
        }
      ]
    },
    {
      "cell_type": "code",
      "metadata": {
        "id": "PXjNbeD5_jvW",
        "colab_type": "code",
        "colab": {}
      },
      "source": [
        ""
      ],
      "execution_count": 0,
      "outputs": []
    }
  ]
}