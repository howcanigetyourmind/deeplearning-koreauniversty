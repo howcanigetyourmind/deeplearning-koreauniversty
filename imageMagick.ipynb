{
  "nbformat": 4,
  "nbformat_minor": 0,
  "metadata": {
    "colab": {
      "name": "imageMagick.ipynb",
      "version": "0.3.2",
      "provenance": [],
      "collapsed_sections": [],
      "include_colab_link": true
    },
    "kernelspec": {
      "name": "python3",
      "display_name": "Python 3"
    }
  },
  "cells": [
    {
      "cell_type": "markdown",
      "metadata": {
        "id": "view-in-github",
        "colab_type": "text"
      },
      "source": [
        "<a href=\"https://colab.research.google.com/github/howcanigetyourmind/deeplearning-koreauniversty/blob/master/imageMagick.ipynb\" target=\"_parent\"><img src=\"https://colab.research.google.com/assets/colab-badge.svg\" alt=\"Open In Colab\"/></a>"
      ]
    },
    {
      "cell_type": "code",
      "metadata": {
        "id": "2uGyG9UPqnK-",
        "colab_type": "code",
        "colab": {
          "base_uri": "https://localhost:8080/",
          "height": 158
        },
        "outputId": "b7e370f1-cee5-4af4-8aff-9acbda864181"
      },
      "source": [
        "#설치\n",
        "#!apt search imagemagick\n",
        "!apt install imagemagick"
      ],
      "execution_count": 31,
      "outputs": [
        {
          "output_type": "stream",
          "text": [
            "Reading package lists... Done\n",
            "Building dependency tree       \n",
            "Reading state information... Done\n",
            "imagemagick is already the newest version (8:6.9.7.4+dfsg-16ubuntu6.7).\n",
            "The following package was automatically installed and is no longer required:\n",
            "  libnvidia-common-410\n",
            "Use 'apt autoremove' to remove it.\n",
            "0 upgraded, 0 newly installed, 0 to remove and 7 not upgraded.\n"
          ],
          "name": "stdout"
        }
      ]
    },
    {
      "cell_type": "code",
      "metadata": {
        "id": "t1jB1sLWtqpy",
        "colab_type": "code",
        "colab": {
          "base_uri": "https://localhost:8080/",
          "height": 404
        },
        "outputId": "7bb5d5d5-e88e-424b-8c26-6dff5e1f4aa8"
      },
      "source": [
        "!wget https://imagemagick.org/image/wizard.jpg\n",
        "!wget https://encrypted-tbn0.gstatic.com/images?q=tbn:ANd9GcRBcfplo4r-VSQTw5MwBcmUJCmQluQ4Xn79TVRNDaJVbXXMi_zxdA\n",
        "\n"
      ],
      "execution_count": 51,
      "outputs": [
        {
          "output_type": "stream",
          "text": [
            "--2019-07-23 07:46:34--  https://imagemagick.org/image/wizard.jpg\n",
            "Resolving imagemagick.org (imagemagick.org)... 198.72.81.86\n",
            "Connecting to imagemagick.org (imagemagick.org)|198.72.81.86|:443... connected.\n",
            "HTTP request sent, awaiting response... 200 OK\n",
            "Length: 23358 (23K) [image/jpeg]\n",
            "Saving to: ‘wizard.jpg.2’\n",
            "\n",
            "\rwizard.jpg.2          0%[                    ]       0  --.-KB/s               \rwizard.jpg.2        100%[===================>]  22.81K  --.-KB/s    in 0.08s   \n",
            "\n",
            "2019-07-23 07:46:34 (274 KB/s) - ‘wizard.jpg.2’ saved [23358/23358]\n",
            "\n",
            "--2019-07-23 07:46:36--  https://encrypted-tbn0.gstatic.com/images?q=tbn:ANd9GcRBcfplo4r-VSQTw5MwBcmUJCmQluQ4Xn79TVRNDaJVbXXMi_zxdA\n",
            "Resolving encrypted-tbn0.gstatic.com (encrypted-tbn0.gstatic.com)... 74.125.141.139, 74.125.141.101, 74.125.141.113, ...\n",
            "Connecting to encrypted-tbn0.gstatic.com (encrypted-tbn0.gstatic.com)|74.125.141.139|:443... connected.\n",
            "HTTP request sent, awaiting response... 200 OK\n",
            "Length: 10116 (9.9K) [image/jpeg]\n",
            "Saving to: ‘images?q=tbn:ANd9GcRBcfplo4r-VSQTw5MwBcmUJCmQluQ4Xn79TVRNDaJVbXXMi_zxdA’\n",
            "\n",
            "images?q=tbn:ANd9Gc 100%[===================>]   9.88K  --.-KB/s    in 0s      \n",
            "\n",
            "2019-07-23 07:46:36 (50.2 MB/s) - ‘images?q=tbn:ANd9GcRBcfplo4r-VSQTw5MwBcmUJCmQluQ4Xn79TVRNDaJVbXXMi_zxdA’ saved [10116/10116]\n",
            "\n"
          ],
          "name": "stdout"
        }
      ]
    },
    {
      "cell_type": "code",
      "metadata": {
        "id": "8mwgDBzHt_mE",
        "colab_type": "code",
        "colab": {}
      },
      "source": [
        "!convert wizard.jpg -resize 64x64 wizard2.jpg\n",
        "!convert images?q=tbn:ANd9GcRBcfplo4r-VSQTw5MwBcmUJCmQluQ4Xn79TVRNDaJVbXXMi_zxdA -resize 100x100 gfriend2.jpg"
      ],
      "execution_count": 0,
      "outputs": []
    },
    {
      "cell_type": "code",
      "metadata": {
        "id": "oKEAt0gew2Fa",
        "colab_type": "code",
        "colab": {
          "base_uri": "https://localhost:8080/",
          "height": 34
        },
        "outputId": "ca20e5f7-921e-4db0-c3ee-d4acc15c56c4"
      },
      "source": [
        "!ls *.jpg\n"
      ],
      "execution_count": 56,
      "outputs": [
        {
          "output_type": "stream",
          "text": [
            "gfriend2.jpg  wizard2.jpg  wizard.jpg\n"
          ],
          "name": "stdout"
        }
      ]
    },
    {
      "cell_type": "code",
      "metadata": {
        "id": "JuImXLZ1xWwC",
        "colab_type": "code",
        "colab": {}
      },
      "source": [
        "!rm -rf xx\n",
        "!bash do.sh"
      ],
      "execution_count": 0,
      "outputs": []
    },
    {
      "cell_type": "code",
      "metadata": {
        "id": "wDQVDVMRxyKd",
        "colab_type": "code",
        "colab": {
          "base_uri": "https://localhost:8080/",
          "height": 34
        },
        "outputId": "22513ef3-a9c5-45a8-a02a-c2498e4e6f49"
      },
      "source": [
        "!identify xx/wizard.jpg"
      ],
      "execution_count": 58,
      "outputs": [
        {
          "output_type": "stream",
          "text": [
            "xx/wizard.jpg JPEG 48x64 48x64+0+0 8-bit sRGB 2.03KB 0.000u 0:00.000\n"
          ],
          "name": "stdout"
        }
      ]
    }
  ]
}