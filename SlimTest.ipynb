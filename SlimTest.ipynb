{
  "nbformat": 4,
  "nbformat_minor": 0,
  "metadata": {
    "colab": {
      "name": "SlimTest.ipynb",
      "version": "0.3.2",
      "provenance": [],
      "collapsed_sections": [],
      "include_colab_link": true
    },
    "kernelspec": {
      "name": "python3",
      "display_name": "Python 3"
    },
    "accelerator": "GPU"
  },
  "cells": [
    {
      "cell_type": "markdown",
      "metadata": {
        "id": "view-in-github",
        "colab_type": "text"
      },
      "source": [
        "<a href=\"https://colab.research.google.com/github/howcanigetyourmind/deeplearning-koreauniversty/blob/master/SlimTest.ipynb\" target=\"_parent\"><img src=\"https://colab.research.google.com/assets/colab-badge.svg\" alt=\"Open In Colab\"/></a>"
      ]
    },
    {
      "cell_type": "code",
      "metadata": {
        "id": "Heof0Q9e6Qef",
        "colab_type": "code",
        "outputId": "427d3692-8769-42f3-d2fa-be22ede88116",
        "colab": {
          "base_uri": "https://localhost:8080/",
          "height": 70
        }
      },
      "source": [
        "%cd /content\n",
        "!git clone https://github.com/howcanigetyourmind/models.git\n",
        "%cd /content/models\n",
        "  "
      ],
      "execution_count": 0,
      "outputs": [
        {
          "output_type": "stream",
          "text": [
            "/content\n",
            "fatal: destination path 'models' already exists and is not an empty directory.\n",
            "/content/models\n"
          ],
          "name": "stdout"
        }
      ]
    },
    {
      "cell_type": "code",
      "metadata": {
        "id": "rfqzxZNK-h4Z",
        "colab_type": "code",
        "outputId": "cd8c9544-35f8-4c30-d2df-42ff656a64ff",
        "colab": {
          "base_uri": "https://localhost:8080/",
          "height": 1000
        }
      },
      "source": [
        "!mkdir -p /content//data/flowers\n",
        "\n",
        "%env DATA_DIR=\"/content/data/flowers\"\n",
        "#!echo $DATA_DTR\n",
        "%cd /content/models/research/slim\n",
        "! python download_and_convert_data.py \\\n",
        "    --dataset_name=flowers \\\n",
        "    --dataset_dir=\"${DATA_DIR}\"\n"
      ],
      "execution_count": 0,
      "outputs": [
        {
          "output_type": "stream",
          "text": [
            "env: DATA_DIR=\"/content/data/flowers\"\n",
            "/content/models/research/slim\n",
            "WARNING: Logging before flag parsing goes to stderr.\n",
            "W0726 02:13:01.441288 139778603333504 deprecation_wrapper.py:119] From download_and_convert_data.py:73: The name tf.app.run is deprecated. Please use tf.compat.v1.app.run instead.\n",
            "\n",
            "W0726 02:13:01.441865 139778603333504 deprecation_wrapper.py:119] From /content/models/research/slim/datasets/download_and_convert_flowers.py:183: The name tf.gfile.Exists is deprecated. Please use tf.io.gfile.exists instead.\n",
            "\n",
            "W0726 02:13:01.442028 139778603333504 deprecation_wrapper.py:119] From /content/models/research/slim/datasets/download_and_convert_flowers.py:184: The name tf.gfile.MakeDirs is deprecated. Please use tf.io.gfile.makedirs instead.\n",
            "\n",
            ">> Downloading flower_photos.tgz 100.0%\n",
            "Successfully downloaded flower_photos.tgz 228813984 bytes.\n",
            "W0726 02:13:07.263501 139778603333504 deprecation_wrapper.py:119] From /content/models/research/slim/datasets/download_and_convert_flowers.py:57: The name tf.placeholder is deprecated. Please use tf.compat.v1.placeholder instead.\n",
            "\n",
            "W0726 02:13:07.268767 139778603333504 deprecation_wrapper.py:119] From /content/models/research/slim/datasets/download_and_convert_flowers.py:124: The name tf.Session is deprecated. Please use tf.compat.v1.Session instead.\n",
            "\n",
            "2019-07-26 02:13:07.270276: I tensorflow/stream_executor/platform/default/dso_loader.cc:42] Successfully opened dynamic library libcuda.so.1\n",
            "2019-07-26 02:13:07.339749: I tensorflow/stream_executor/cuda/cuda_gpu_executor.cc:1005] successful NUMA node read from SysFS had negative value (-1), but there must be at least one NUMA node, so returning NUMA node zero\n",
            "2019-07-26 02:13:07.340199: I tensorflow/core/common_runtime/gpu/gpu_device.cc:1640] Found device 0 with properties: \n",
            "name: Tesla T4 major: 7 minor: 5 memoryClockRate(GHz): 1.59\n",
            "pciBusID: 0000:00:04.0\n",
            "2019-07-26 02:13:07.355901: I tensorflow/stream_executor/platform/default/dso_loader.cc:42] Successfully opened dynamic library libcudart.so.10.0\n",
            "2019-07-26 02:13:07.538827: I tensorflow/stream_executor/platform/default/dso_loader.cc:42] Successfully opened dynamic library libcublas.so.10.0\n",
            "2019-07-26 02:13:07.615968: I tensorflow/stream_executor/platform/default/dso_loader.cc:42] Successfully opened dynamic library libcufft.so.10.0\n",
            "2019-07-26 02:13:07.646857: I tensorflow/stream_executor/platform/default/dso_loader.cc:42] Successfully opened dynamic library libcurand.so.10.0\n",
            "2019-07-26 02:13:07.837891: I tensorflow/stream_executor/platform/default/dso_loader.cc:42] Successfully opened dynamic library libcusolver.so.10.0\n",
            "2019-07-26 02:13:07.943518: I tensorflow/stream_executor/platform/default/dso_loader.cc:42] Successfully opened dynamic library libcusparse.so.10.0\n",
            "2019-07-26 02:13:08.294535: I tensorflow/stream_executor/platform/default/dso_loader.cc:42] Successfully opened dynamic library libcudnn.so.7\n",
            "2019-07-26 02:13:08.294702: I tensorflow/stream_executor/cuda/cuda_gpu_executor.cc:1005] successful NUMA node read from SysFS had negative value (-1), but there must be at least one NUMA node, so returning NUMA node zero\n",
            "2019-07-26 02:13:08.295167: I tensorflow/stream_executor/cuda/cuda_gpu_executor.cc:1005] successful NUMA node read from SysFS had negative value (-1), but there must be at least one NUMA node, so returning NUMA node zero\n",
            "2019-07-26 02:13:08.295548: I tensorflow/core/common_runtime/gpu/gpu_device.cc:1763] Adding visible gpu devices: 0\n",
            "2019-07-26 02:13:08.315743: I tensorflow/core/platform/profile_utils/cpu_utils.cc:94] CPU Frequency: 2200000000 Hz\n",
            "2019-07-26 02:13:08.316984: I tensorflow/compiler/xla/service/service.cc:168] XLA service 0x22c7640 executing computations on platform Host. Devices:\n",
            "2019-07-26 02:13:08.317014: I tensorflow/compiler/xla/service/service.cc:175]   StreamExecutor device (0): <undefined>, <undefined>\n",
            "2019-07-26 02:13:08.490429: I tensorflow/stream_executor/cuda/cuda_gpu_executor.cc:1005] successful NUMA node read from SysFS had negative value (-1), but there must be at least one NUMA node, so returning NUMA node zero\n",
            "2019-07-26 02:13:08.490967: I tensorflow/compiler/xla/service/service.cc:168] XLA service 0x22c7d40 executing computations on platform CUDA. Devices:\n",
            "2019-07-26 02:13:08.490996: I tensorflow/compiler/xla/service/service.cc:175]   StreamExecutor device (0): Tesla T4, Compute Capability 7.5\n",
            "2019-07-26 02:13:08.491184: I tensorflow/stream_executor/cuda/cuda_gpu_executor.cc:1005] successful NUMA node read from SysFS had negative value (-1), but there must be at least one NUMA node, so returning NUMA node zero\n",
            "2019-07-26 02:13:08.491599: I tensorflow/core/common_runtime/gpu/gpu_device.cc:1640] Found device 0 with properties: \n",
            "name: Tesla T4 major: 7 minor: 5 memoryClockRate(GHz): 1.59\n",
            "pciBusID: 0000:00:04.0\n",
            "2019-07-26 02:13:08.491656: I tensorflow/stream_executor/platform/default/dso_loader.cc:42] Successfully opened dynamic library libcudart.so.10.0\n",
            "2019-07-26 02:13:08.491693: I tensorflow/stream_executor/platform/default/dso_loader.cc:42] Successfully opened dynamic library libcublas.so.10.0\n",
            "2019-07-26 02:13:08.491714: I tensorflow/stream_executor/platform/default/dso_loader.cc:42] Successfully opened dynamic library libcufft.so.10.0\n",
            "2019-07-26 02:13:08.491740: I tensorflow/stream_executor/platform/default/dso_loader.cc:42] Successfully opened dynamic library libcurand.so.10.0\n",
            "2019-07-26 02:13:08.491760: I tensorflow/stream_executor/platform/default/dso_loader.cc:42] Successfully opened dynamic library libcusolver.so.10.0\n",
            "2019-07-26 02:13:08.491780: I tensorflow/stream_executor/platform/default/dso_loader.cc:42] Successfully opened dynamic library libcusparse.so.10.0\n",
            "2019-07-26 02:13:08.491801: I tensorflow/stream_executor/platform/default/dso_loader.cc:42] Successfully opened dynamic library libcudnn.so.7\n",
            "2019-07-26 02:13:08.491864: I tensorflow/stream_executor/cuda/cuda_gpu_executor.cc:1005] successful NUMA node read from SysFS had negative value (-1), but there must be at least one NUMA node, so returning NUMA node zero\n",
            "2019-07-26 02:13:08.492240: I tensorflow/stream_executor/cuda/cuda_gpu_executor.cc:1005] successful NUMA node read from SysFS had negative value (-1), but there must be at least one NUMA node, so returning NUMA node zero\n",
            "2019-07-26 02:13:08.492603: I tensorflow/core/common_runtime/gpu/gpu_device.cc:1763] Adding visible gpu devices: 0\n",
            "2019-07-26 02:13:08.691632: I tensorflow/stream_executor/platform/default/dso_loader.cc:42] Successfully opened dynamic library libcudart.so.10.0\n",
            "2019-07-26 02:13:08.695076: I tensorflow/core/common_runtime/gpu/gpu_device.cc:1181] Device interconnect StreamExecutor with strength 1 edge matrix:\n",
            "2019-07-26 02:13:08.695114: I tensorflow/core/common_runtime/gpu/gpu_device.cc:1187]      0 \n",
            "2019-07-26 02:13:08.695138: I tensorflow/core/common_runtime/gpu/gpu_device.cc:1200] 0:   N \n",
            "2019-07-26 02:13:08.701454: I tensorflow/stream_executor/cuda/cuda_gpu_executor.cc:1005] successful NUMA node read from SysFS had negative value (-1), but there must be at least one NUMA node, so returning NUMA node zero\n",
            "2019-07-26 02:13:08.701878: I tensorflow/stream_executor/cuda/cuda_gpu_executor.cc:1005] successful NUMA node read from SysFS had negative value (-1), but there must be at least one NUMA node, so returning NUMA node zero\n",
            "2019-07-26 02:13:08.702214: W tensorflow/core/common_runtime/gpu/gpu_bfc_allocator.cc:40] Overriding allow_growth setting because the TF_FORCE_GPU_ALLOW_GROWTH environment variable is set. Original config value was 0.\n",
            "2019-07-26 02:13:08.702261: I tensorflow/core/common_runtime/gpu/gpu_device.cc:1326] Created TensorFlow device (/job:localhost/replica:0/task:0/device:GPU:0 with 14202 MB memory) -> physical GPU (device: 0, name: Tesla T4, pci bus id: 0000:00:04.0, compute capability: 7.5)\n",
            "W0726 02:13:08.702930 139778603333504 deprecation_wrapper.py:119] From /content/models/research/slim/datasets/download_and_convert_flowers.py:130: The name tf.python_io.TFRecordWriter is deprecated. Please use tf.io.TFRecordWriter instead.\n",
            "\n",
            ">> Converting image 1/3320 shard 0W0726 02:13:08.703364 139778603333504 deprecation_wrapper.py:119] From /content/models/research/slim/datasets/download_and_convert_flowers.py:139: The name tf.gfile.GFile is deprecated. Please use tf.io.gfile.GFile instead.\n",
            "\n",
            ">> Converting image 3320/3320 shard 4\n",
            "2019-07-26 02:13:14.945900: I tensorflow/stream_executor/cuda/cuda_gpu_executor.cc:1005] successful NUMA node read from SysFS had negative value (-1), but there must be at least one NUMA node, so returning NUMA node zero\n",
            "2019-07-26 02:13:14.946298: I tensorflow/core/common_runtime/gpu/gpu_device.cc:1640] Found device 0 with properties: \n",
            "name: Tesla T4 major: 7 minor: 5 memoryClockRate(GHz): 1.59\n",
            "pciBusID: 0000:00:04.0\n",
            "2019-07-26 02:13:14.946356: I tensorflow/stream_executor/platform/default/dso_loader.cc:42] Successfully opened dynamic library libcudart.so.10.0\n",
            "2019-07-26 02:13:14.946375: I tensorflow/stream_executor/platform/default/dso_loader.cc:42] Successfully opened dynamic library libcublas.so.10.0\n",
            "2019-07-26 02:13:14.946408: I tensorflow/stream_executor/platform/default/dso_loader.cc:42] Successfully opened dynamic library libcufft.so.10.0\n",
            "2019-07-26 02:13:14.946431: I tensorflow/stream_executor/platform/default/dso_loader.cc:42] Successfully opened dynamic library libcurand.so.10.0\n",
            "2019-07-26 02:13:14.946448: I tensorflow/stream_executor/platform/default/dso_loader.cc:42] Successfully opened dynamic library libcusolver.so.10.0\n",
            "2019-07-26 02:13:14.946465: I tensorflow/stream_executor/platform/default/dso_loader.cc:42] Successfully opened dynamic library libcusparse.so.10.0\n",
            "2019-07-26 02:13:14.946483: I tensorflow/stream_executor/platform/default/dso_loader.cc:42] Successfully opened dynamic library libcudnn.so.7\n",
            "2019-07-26 02:13:14.946548: I tensorflow/stream_executor/cuda/cuda_gpu_executor.cc:1005] successful NUMA node read from SysFS had negative value (-1), but there must be at least one NUMA node, so returning NUMA node zero\n",
            "2019-07-26 02:13:14.946918: I tensorflow/stream_executor/cuda/cuda_gpu_executor.cc:1005] successful NUMA node read from SysFS had negative value (-1), but there must be at least one NUMA node, so returning NUMA node zero\n",
            "2019-07-26 02:13:14.947234: I tensorflow/core/common_runtime/gpu/gpu_device.cc:1763] Adding visible gpu devices: 0\n",
            "2019-07-26 02:13:14.947270: I tensorflow/core/common_runtime/gpu/gpu_device.cc:1181] Device interconnect StreamExecutor with strength 1 edge matrix:\n",
            "2019-07-26 02:13:14.947283: I tensorflow/core/common_runtime/gpu/gpu_device.cc:1187]      0 \n",
            "2019-07-26 02:13:14.947296: I tensorflow/core/common_runtime/gpu/gpu_device.cc:1200] 0:   N \n",
            "2019-07-26 02:13:14.947568: I tensorflow/stream_executor/cuda/cuda_gpu_executor.cc:1005] successful NUMA node read from SysFS had negative value (-1), but there must be at least one NUMA node, so returning NUMA node zero\n",
            "2019-07-26 02:13:14.947941: I tensorflow/stream_executor/cuda/cuda_gpu_executor.cc:1005] successful NUMA node read from SysFS had negative value (-1), but there must be at least one NUMA node, so returning NUMA node zero\n",
            "2019-07-26 02:13:14.948271: I tensorflow/core/common_runtime/gpu/gpu_device.cc:1326] Created TensorFlow device (/job:localhost/replica:0/task:0/device:GPU:0 with 14202 MB memory) -> physical GPU (device: 0, name: Tesla T4, pci bus id: 0000:00:04.0, compute capability: 7.5)\n",
            ">> Converting image 350/350 shard 4\n",
            "W0726 02:13:15.605046 139778603333504 deprecation_wrapper.py:119] From /content/models/research/slim/datasets/dataset_utils.py:135: The name tf.gfile.Open is deprecated. Please use tf.io.gfile.GFile instead.\n",
            "\n",
            "W0726 02:13:15.605430 139778603333504 deprecation_wrapper.py:119] From /content/models/research/slim/datasets/download_and_convert_flowers.py:161: The name tf.gfile.Remove is deprecated. Please use tf.io.gfile.remove instead.\n",
            "\n",
            "\n",
            "Finished converting the Flowers dataset!\n"
          ],
          "name": "stdout"
        }
      ]
    },
    {
      "cell_type": "code",
      "metadata": {
        "id": "_hUVMGQ6GOGQ",
        "colab_type": "code",
        "outputId": "48628fb7-b714-478a-a27d-cfe39636b7fc",
        "colab": {
          "base_uri": "https://localhost:8080/",
          "height": 298
        }
      },
      "source": [
        "!ls $DATA_DIR\n",
        "!cat $DATA_DIR/labels.txt"
      ],
      "execution_count": 0,
      "outputs": [
        {
          "output_type": "stream",
          "text": [
            "flowers_train_00000-of-00005.tfrecord\n",
            "flowers_train_00001-of-00005.tfrecord\n",
            "flowers_train_00002-of-00005.tfrecord\n",
            "flowers_train_00003-of-00005.tfrecord\n",
            "flowers_train_00004-of-00005.tfrecord\n",
            "flowers_validation_00000-of-00005.tfrecord\n",
            "flowers_validation_00001-of-00005.tfrecord\n",
            "flowers_validation_00002-of-00005.tfrecord\n",
            "flowers_validation_00003-of-00005.tfrecord\n",
            "flowers_validation_00004-of-00005.tfrecord\n",
            "labels.txt\n",
            "0:daisy\n",
            "1:dandelion\n",
            "2:roses\n",
            "3:sunflowers\n",
            "4:tulips\n"
          ],
          "name": "stdout"
        }
      ]
    },
    {
      "cell_type": "code",
      "metadata": {
        "id": "7J4FurnOLlxD",
        "colab_type": "code",
        "colab": {}
      },
      "source": [
        "\n"
      ],
      "execution_count": 0,
      "outputs": []
    },
    {
      "cell_type": "code",
      "metadata": {
        "id": "Pb67Et2BGrT1",
        "colab_type": "code",
        "outputId": "9e3f3caf-cc5c-489e-aca5-1a3a95f24465",
        "colab": {
          "base_uri": "https://localhost:8080/",
          "height": 87
        }
      },
      "source": [
        "%cd /content/models\n",
        "!git pull\n",
        "\n",
        "'''\n",
        "%env DATA_DIR=/content/data/flowers\n",
        "!rm -rf $DATA_DTR\n",
        "#!echo $DATA_DTR\n",
        "%cd /content/models/research/slim\n",
        "! python download_and_convert_data.py \\\n",
        "    --dataset_name=flowers \\\n",
        "    --dataset_dir=\"${DATA_DIR}\"\n",
        "#!echo $DATA_DTR\n",
        "%env DATA_DIR=/content/data/flowers\n",
        "!ls $DATA_DTR/*tgz\n",
        "%cd $DATA_DIR\n",
        "!pwd\n",
        "'''\n",
        "!ls /content/data/flowers\n",
        "!cd /content\n",
        "!tar -xvf/content/data/flowers/flowers_photos.tgz"
      ],
      "execution_count": 28,
      "outputs": [
        {
          "output_type": "stream",
          "text": [
            "/content/models\n",
            "Already up to date.\n",
            "tar: /content/data/flowers/flowers_photos.tgz: Cannot open: No such file or directory\n",
            "tar: Error is not recoverable: exiting now\n"
          ],
          "name": "stdout"
        }
      ]
    },
    {
      "cell_type": "code",
      "metadata": {
        "id": "dlr5_6zNLYBD",
        "colab_type": "code",
        "outputId": "c5b91711-7a7a-4c49-e613-06606b0f92df",
        "colab": {
          "base_uri": "https://localhost:8080/",
          "height": 439
        }
      },
      "source": [
        ""
      ],
      "execution_count": 0,
      "outputs": [
        {
          "output_type": "stream",
          "text": [
            "flowers_train_00000-of-00005.tfrecord\n",
            "flowers_train_00001-of-00005.tfrecord\n",
            "flowers_train_00002-of-00005.tfrecord\n",
            "flowers_train_00003-of-00005.tfrecord\n",
            "flowers_train_00004-of-00005.tfrecord\n",
            "flowers_validation_00000-of-00005.tfrecord\n",
            "flowers_validation_00001-of-00005.tfrecord\n",
            "flowers_validation_00002-of-00005.tfrecord\n",
            "flowers_validation_00003-of-00005.tfrecord\n",
            "flowers_validation_00004-of-00005.tfrecord\n",
            "labels.txt\n",
            "[Errno 2] No such file or directory: '$DATA_DIR'\n",
            "/content/models/research/slim\n",
            "tar: flower_photos.tgz: Cannot open: No such file or directory\n",
            "tar: Error is not recoverable: exiting now\n",
            "'\"'\t\t\t\t  nets\n",
            " BUILD\t\t\t\t  preprocessing\n",
            " datasets\t\t\t  README.md\n",
            " deployment\t\t\t  scripts\n",
            " download_and_convert_data.py\t  setup.py\n",
            " eval_image_classifier.py\t  slim_walkthrough.ipynb\n",
            " export_inference_graph.py\t  train_image_classifier.py\n",
            " export_inference_graph_test.py   WORKSPACE\n",
            " __init__.py\n"
          ],
          "name": "stdout"
        }
      ]
    }
  ]
}