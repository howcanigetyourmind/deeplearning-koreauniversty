{
  "nbformat": 4,
  "nbformat_minor": 0,
  "metadata": {
    "kernelspec": {
      "name": "python3",
      "display_name": "Python 3"
    },
    "language_info": {
      "codemirror_mode": {
        "name": "ipython",
        "version": 3
      },
      "file_extension": ".py",
      "mimetype": "text/x-python",
      "name": "python",
      "nbconvert_exporter": "python",
      "pygments_lexer": "ipython3",
      "version": "3.6.4"
    },
    "colab": {
      "name": "CNN.ipynb",
      "version": "0.3.2",
      "provenance": [],
      "include_colab_link": true
    },
    "accelerator": "GPU"
  },
  "cells": [
    {
      "cell_type": "markdown",
      "metadata": {
        "id": "view-in-github",
        "colab_type": "text"
      },
      "source": [
        "<a href=\"https://colab.research.google.com/github/howcanigetyourmind/deeplearning-koreauniversty/blob/master/CNN.ipynb\" target=\"_parent\"><img src=\"https://colab.research.google.com/assets/colab-badge.svg\" alt=\"Open In Colab\"/></a>"
      ]
    },
    {
      "cell_type": "markdown",
      "metadata": {
        "id": "xOOsttSxxzsN",
        "colab_type": "text"
      },
      "source": [
        "Trains a simple convnet on the MNIST dataset.\n",
        "Gets to 99.25% test accuracy after 12 epochs\n",
        "(there is still a lot of margin for parameter tuning).\n",
        "16 seconds per epoch on a GRID K520 GPU."
      ]
    },
    {
      "cell_type": "code",
      "metadata": {
        "id": "ilMsBdQ0xzsR",
        "colab_type": "code",
        "colab": {}
      },
      "source": [
        "import tensorflow as tf\n",
        "import numpy as np\n",
        "\n",
        "from tensorflow.python import keras\n",
        "from tensorflow.python.keras.datasets import mnist\n",
        "from tensorflow.python.keras.models import Sequential\n",
        "from tensorflow.python.keras.layers import Dense, Dropout, Flatten\n",
        "from tensorflow.python.keras.layers import Conv2D, MaxPooling2D\n",
        "from tensorflow.python.keras import backend as K"
      ],
      "execution_count": 0,
      "outputs": []
    },
    {
      "cell_type": "code",
      "metadata": {
        "id": "s-2-cXlnxzsg",
        "colab_type": "code",
        "colab": {}
      },
      "source": [
        "batch_size = 128\n",
        "num_classes = 10\n",
        "epochs = 12\n",
        "\n",
        "# input image dimensions\n",
        "img_rows, img_cols = 28, 28"
      ],
      "execution_count": 0,
      "outputs": []
    },
    {
      "cell_type": "code",
      "metadata": {
        "id": "FNlD5mogxzsr",
        "colab_type": "code",
        "colab": {
          "base_uri": "https://localhost:8080/",
          "height": 670
        },
        "outputId": "3a745962-2192-4011-8a4e-511cd7bc0ce5"
      },
      "source": [
        "# the data, split between train and test sets\n",
        "(x_train, y_train), (x_test, y_test) = mnist.load_data()\n",
        "\n",
        "if K.image_data_format() == 'channels_first':\n",
        "    x_train = x_train.reshape(x_train.shape[0], 1, img_rows, img_cols)\n",
        "    x_test = x_test.reshape(x_test.shape[0], 1, img_rows, img_cols)\n",
        "    input_shape = (1, img_rows, img_cols)\n",
        "else:\n",
        "    x_train = x_train.reshape(x_train.shape[0], img_rows, img_cols, 1)\n",
        "    x_test = x_test.reshape(x_test.shape[0], img_rows, img_cols, 1)\n",
        "    input_shape = (img_rows, img_cols, 1)\n",
        "\n",
        "x_train = x_train.astype('float32')\n",
        "x_test = x_test.astype('float32')\n",
        "x_train /= 255\n",
        "x_test /= 255\n",
        "print('x_train shape:', x_train.shape)\n",
        "\n",
        "print(x_train.shape[0], 'train samples')\n",
        "print(x_test.shape[0], 'test samples')\n",
        "\n",
        "# convert class vectors to binary class matrices\n",
        "y_train = keras.utils.to_categorical(y_train, num_classes)\n",
        "y_test = keras.utils.to_categorical(y_test, num_classes)\n",
        "\n",
        "#트레이닝\n",
        "model = Sequential()\n",
        "model.add(Conv2D(32, kernel_size=(3, 3),\n",
        "                 activation='relu',\n",
        "                 input_shape=input_shape))\n",
        "model.add(Conv2D(64, (3, 3), activation='relu'))\n",
        "model.add(MaxPooling2D(pool_size=(2, 2)))\n",
        "model.add(Dropout(0.25))\n",
        "model.add(Flatten())\n",
        "model.add(Dense(128, activation='relu'))\n",
        "model.add(Dropout(0.5))\n",
        "model.add(Dense(num_classes, activation='softmax'))\n",
        "\n",
        "model.compile(loss=keras.losses.categorical_crossentropy,\n",
        "              optimizer=keras.optimizers.Adadelta(),\n",
        "              metrics=['accuracy'])\n",
        "\n",
        "model.fit(x_train, y_train,\n",
        "          batch_size=batch_size,\n",
        "          epochs=epochs,\n",
        "          verbose=1,\n",
        "          validation_data=(x_test, y_test))\n",
        "score = model.evaluate(x_test, y_test, verbose=0)\n",
        "print('Test loss:', score[0])\n",
        "print('Test accuracy:', score[1])\n",
        "\n",
        "#배우는 건 텐서플로우\n",
        "#프로젝트는 케라스로."
      ],
      "execution_count": 4,
      "outputs": [
        {
          "output_type": "stream",
          "text": [
            "Downloading data from https://storage.googleapis.com/tensorflow/tf-keras-datasets/mnist.npz\n",
            "11493376/11490434 [==============================] - 0s 0us/step\n"
          ],
          "name": "stdout"
        },
        {
          "output_type": "stream",
          "text": [
            "WARNING: Logging before flag parsing goes to stderr.\n",
            "W0724 07:16:04.857692 139817698248576 deprecation.py:506] From /usr/local/lib/python3.6/dist-packages/tensorflow/python/ops/init_ops.py:1251: calling VarianceScaling.__init__ (from tensorflow.python.ops.init_ops) with dtype is deprecated and will be removed in a future version.\n",
            "Instructions for updating:\n",
            "Call initializer instance with the dtype argument instead of passing it to the constructor\n"
          ],
          "name": "stderr"
        },
        {
          "output_type": "stream",
          "text": [
            "x_train shape: (60000, 28, 28, 1)\n",
            "60000 train samples\n",
            "10000 test samples\n",
            "Train on 60000 samples, validate on 10000 samples\n",
            "Epoch 1/12\n",
            "60000/60000 [==============================] - 10s 163us/sample - loss: 0.2528 - acc: 0.9222 - val_loss: 0.0544 - val_acc: 0.9819\n",
            "Epoch 2/12\n",
            "60000/60000 [==============================] - 9s 142us/sample - loss: 0.0895 - acc: 0.9735 - val_loss: 0.0406 - val_acc: 0.9863\n",
            "Epoch 3/12\n",
            "60000/60000 [==============================] - 8s 141us/sample - loss: 0.0657 - acc: 0.9801 - val_loss: 0.0340 - val_acc: 0.9878\n",
            "Epoch 4/12\n",
            "60000/60000 [==============================] - 9s 142us/sample - loss: 0.0536 - acc: 0.9839 - val_loss: 0.0363 - val_acc: 0.9878\n",
            "Epoch 5/12\n",
            "60000/60000 [==============================] - 9s 142us/sample - loss: 0.0488 - acc: 0.9852 - val_loss: 0.0289 - val_acc: 0.9899\n",
            "Epoch 6/12\n",
            "60000/60000 [==============================] - 8s 141us/sample - loss: 0.0402 - acc: 0.9877 - val_loss: 0.0303 - val_acc: 0.9898\n",
            "Epoch 7/12\n",
            "60000/60000 [==============================] - 8s 141us/sample - loss: 0.0366 - acc: 0.9889 - val_loss: 0.0323 - val_acc: 0.9883\n",
            "Epoch 8/12\n",
            "60000/60000 [==============================] - 8s 141us/sample - loss: 0.0341 - acc: 0.9896 - val_loss: 0.0298 - val_acc: 0.9900\n",
            "Epoch 9/12\n",
            "60000/60000 [==============================] - 8s 140us/sample - loss: 0.0311 - acc: 0.9903 - val_loss: 0.0254 - val_acc: 0.9913\n",
            "Epoch 10/12\n",
            "60000/60000 [==============================] - 8s 141us/sample - loss: 0.0275 - acc: 0.9918 - val_loss: 0.0285 - val_acc: 0.9908\n",
            "Epoch 11/12\n",
            "60000/60000 [==============================] - 8s 140us/sample - loss: 0.0272 - acc: 0.9912 - val_loss: 0.0288 - val_acc: 0.9914\n",
            "Epoch 12/12\n",
            "60000/60000 [==============================] - 8s 141us/sample - loss: 0.0257 - acc: 0.9919 - val_loss: 0.0305 - val_acc: 0.9903\n",
            "Test loss: 0.030542276656815283\n",
            "Test accuracy: 0.9903\n"
          ],
          "name": "stdout"
        }
      ]
    },
    {
      "cell_type": "code",
      "metadata": {
        "id": "vIdmbk1Wxzs4",
        "colab_type": "code",
        "colab": {}
      },
      "source": [
        ""
      ],
      "execution_count": 0,
      "outputs": []
    }
  ]
}