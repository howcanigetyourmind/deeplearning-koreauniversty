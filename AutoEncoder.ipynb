{
  "nbformat": 4,
  "nbformat_minor": 0,
  "metadata": {
    "kernelspec": {
      "name": "python3",
      "display_name": "Python 3"
    },
    "language_info": {
      "codemirror_mode": {
        "name": "ipython",
        "version": 3
      },
      "file_extension": ".py",
      "mimetype": "text/x-python",
      "name": "python",
      "nbconvert_exporter": "python",
      "pygments_lexer": "ipython3",
      "version": "3.6.4"
    },
    "colab": {
      "name": "AutoEncoder.ipynb",
      "version": "0.3.2",
      "provenance": [],
      "collapsed_sections": [],
      "toc_visible": true,
      "include_colab_link": true
    },
    "accelerator": "GPU"
  },
  "cells": [
    {
      "cell_type": "markdown",
      "metadata": {
        "id": "view-in-github",
        "colab_type": "text"
      },
      "source": [
        "<a href=\"https://colab.research.google.com/github/howcanigetyourmind/deeplearning-koreauniversty/blob/master/AutoEncoder.ipynb\" target=\"_parent\"><img src=\"https://colab.research.google.com/assets/colab-badge.svg\" alt=\"Open In Colab\"/></a>"
      ]
    },
    {
      "cell_type": "markdown",
      "metadata": {
        "id": "jt0Yka4Co_Rg",
        "colab_type": "text"
      },
      "source": [
        "# Auto Encoder Example.\n",
        "\n",
        "본 문서는 TensorFlow 를 사용하여 Deep Learning을 구현하기 위한 기초적인 실습 자료이다.\n",
        "\n",
        "* Using an auto encoder on MNIST handwritten digits.\n",
        "* References:\n",
        "```\n",
        "    Y. LeCun, L. Bottou, Y. Bengio, and P. Haffner. \"Gradient-based\n",
        "    learning applied to document recognition.\" Proceedings of the IEEE,\n",
        "    86(11):2278-2324, November 1998.\n",
        "```    \n",
        "* Links:\n",
        "    - [MNIST Dataset] http://yann.lecun.com/exdb/mnist/\n",
        "\n",
        "* The code and comments are written by by NamJungGu <nowage@gmail.com> \n",
        "\n",
        "<a rel=\"license\" href=\"http://creativecommons.org/licenses/by-nc-sa/4.0/\"><img alt=\"Creative Commons License\" style=\"border-width:0\" src=\"https://i.creativecommons.org/l/by-nc-sa/4.0/88x31.png\" /></a><br />This work is licensed under a <a rel=\"license\" href=\"http://creativecommons.org/licenses/by-nc-sa/4.0/\">Creative Commons Attribution-NonCommercial-ShareAlike 4.0 International License</a>.    "
      ]
    },
    {
      "cell_type": "code",
      "metadata": {
        "id": "LPyJ_T7Eo_Rn",
        "colab_type": "code",
        "colab": {}
      },
      "source": [
        "%matplotlib inline\n",
        "\n",
        "#from __future__ import division, print_function, absolute_import\n",
        "\n",
        "import tensorflow as tf\n",
        "import numpy as np\n",
        "import matplotlib.pyplot as plt\n",
        "import matplotlib\n",
        "# matplotlib.use('TkAgg')\n"
      ],
      "execution_count": 0,
      "outputs": []
    },
    {
      "cell_type": "code",
      "metadata": {
        "id": "sXnYn1EPo_R5",
        "colab_type": "code",
        "outputId": "eb9b77f6-550c-4fd3-bf9c-512739dd5320",
        "colab": {
          "base_uri": "https://localhost:8080/",
          "height": 87
        }
      },
      "source": [
        "# # Import MNIST data\n",
        "# from tensorflow.examples.tutorials.mnist import input_data\n",
        "# mnist = input_data.read_data_sets(\"MNIST_data\", one_hot=True)\n",
        "\n",
        "\n",
        "from tensorflow.examples.tutorials.mnist import input_data\n",
        "mnist = input_data.read_data_sets('./MNIST_data', one_hot=True)\n",
        "train_data = mnist.train.images  # Returns np.array\n",
        "train_labels = np.asarray(mnist.train.labels, dtype=np.int32)\n",
        "eval_data = mnist.test.images  # Returns np.array\n",
        "eval_labels = np.asarray(mnist.test.labels, dtype=np.int32)"
      ],
      "execution_count": 7,
      "outputs": [
        {
          "output_type": "stream",
          "text": [
            "Extracting ./MNIST_data/train-images-idx3-ubyte.gz\n",
            "Extracting ./MNIST_data/train-labels-idx1-ubyte.gz\n",
            "Extracting ./MNIST_data/t10k-images-idx3-ubyte.gz\n",
            "Extracting ./MNIST_data/t10k-labels-idx1-ubyte.gz\n"
          ],
          "name": "stdout"
        }
      ]
    },
    {
      "cell_type": "code",
      "metadata": {
        "id": "gAl29k5bsF8I",
        "colab_type": "code",
        "outputId": "a14b9861-f673-4507-a207-0d51b38de5d3",
        "colab": {
          "base_uri": "https://localhost:8080/",
          "height": 269
        }
      },
      "source": [
        "#dir(mnist)\n",
        "#dir(mnist.train)\n",
        "#dir(train_labes)\n",
        "#print(train_labels.__class__)\n",
        "#print(train_labels.shape)\n",
        "#print(train_labels[0])\n",
        "#print(train_labels[1])\n",
        "#print(train_data[0].reshape([28,28]))\n",
        "img=train_data[2].reshape([28,28])\n",
        "import matplotlib.pyplot as plt\n",
        " \n",
        "plt.imshow(img, cmap='Greys')\n",
        "plt.show()\n"
      ],
      "execution_count": 8,
      "outputs": [
        {
          "output_type": "display_data",
          "data": {
            "image/png": "[encoded data removed]",
            "text/plain": [
              "<Figure size 432x288 with 1 Axes>"
            ]
          },
          "metadata": {
            "tags": []
          }
        }
      ]
    },
    {
      "cell_type": "code",
      "metadata": {
        "id": "hgDFgf3bo_SP",
        "colab_type": "code",
        "colab": {}
      },
      "source": [
        "# Parameters\n",
        "learning_rate = 0.01\n",
        "training_epochs = 60\n",
        "batch_size = 256\n",
        "display_step = 1\n",
        "examples_to_show = 10"
      ],
      "execution_count": 0,
      "outputs": []
    },
    {
      "cell_type": "code",
      "metadata": {
        "id": "AWBAFSzAo_Sd",
        "colab_type": "code",
        "colab": {}
      },
      "source": [
        "# Network Parameters\n",
        "n_hidden_1 = 256 # 1st layer num features\n",
        "n_hidden_2 = 128 # 2nd layer num features\n",
        "n_input = 784 # MNIST data input (img shape: 28*28)"
      ],
      "execution_count": 0,
      "outputs": []
    },
    {
      "cell_type": "code",
      "metadata": {
        "id": "Fti_Ob71o_Sr",
        "colab_type": "code",
        "colab": {}
      },
      "source": [
        "# tf Graph input (only pictures)\n",
        "X = tf.placeholder(\"float\", [None, n_input])\n",
        "\n",
        "weights = {\n",
        "    'encoder_h1': tf.Variable(tf.random_normal([n_input, n_hidden_1])),\n",
        "    'encoder_h2': tf.Variable(tf.random_normal([n_hidden_1, n_hidden_2])),\n",
        "    'decoder_h1': tf.Variable(tf.random_normal([n_hidden_2, n_hidden_1])),\n",
        "    'decoder_h2': tf.Variable(tf.random_normal([n_hidden_1, n_input])),\n",
        "}\n",
        "biases = {\n",
        "    'encoder_b1': tf.Variable(tf.random_normal([n_hidden_1])),\n",
        "    'encoder_b2': tf.Variable(tf.random_normal([n_hidden_2])),\n",
        "    'decoder_b1': tf.Variable(tf.random_normal([n_hidden_1])),\n",
        "    'decoder_b2': tf.Variable(tf.random_normal([n_input])),\n",
        "}"
      ],
      "execution_count": 0,
      "outputs": []
    },
    {
      "cell_type": "code",
      "metadata": {
        "id": "lkazLvVZo_S5",
        "colab_type": "code",
        "colab": {}
      },
      "source": [
        "# Building the encoder\n",
        "def encoder(x):\n",
        "    # Encoder Hidden layer with sigmoid activation #1\n",
        "    layer_1 = tf.nn.sigmoid(tf.add(tf.matmul(x, weights['encoder_h1']),\n",
        "                                   biases['encoder_b1']))\n",
        "    # Decoder Hidden layer with sigmoid activation #2\n",
        "    layer_2 = tf.nn.sigmoid(tf.add(tf.matmul(layer_1, weights['encoder_h2']),\n",
        "                                   biases['encoder_b2']))\n",
        "    return layer_2"
      ],
      "execution_count": 0,
      "outputs": []
    },
    {
      "cell_type": "code",
      "metadata": {
        "id": "byn1Oyn2o_TH",
        "colab_type": "code",
        "colab": {}
      },
      "source": [
        "# Building the decoder\n",
        "def decoder(x):\n",
        "    # Encoder Hidden layer with sigmoid activation #1\n",
        "    layer_1 = tf.nn.sigmoid(tf.add(tf.matmul(x, weights['decoder_h1']),\n",
        "                                   biases['decoder_b1']))\n",
        "    # Decoder Hidden layer with sigmoid activation #2\n",
        "    layer_2 = tf.nn.sigmoid(tf.add(tf.matmul(layer_1, weights['decoder_h2']),\n",
        "                                   biases['decoder_b2']))\n",
        "    return layer_2"
      ],
      "execution_count": 0,
      "outputs": []
    },
    {
      "cell_type": "code",
      "metadata": {
        "id": "7aiSzB5Jo_TU",
        "colab_type": "code",
        "colab": {}
      },
      "source": [
        "# Construct model\n",
        "encoder_op = encoder(X)\n",
        "decoder_op = decoder(encoder_op)\n",
        "\n",
        "# Prediction\n",
        "y_pred = decoder_op\n",
        "# Targets (Labels) are the input data.\n",
        "y_true = X"
      ],
      "execution_count": 0,
      "outputs": []
    },
    {
      "cell_type": "code",
      "metadata": {
        "id": "z05ZDkF1o_Th",
        "colab_type": "code",
        "colab": {}
      },
      "source": [
        "# Define loss and optimizer, minimize the squared error\n",
        "cost = tf.reduce_mean(tf.pow(y_true - y_pred, 2))\n",
        "optimizer = tf.train.RMSPropOptimizer(learning_rate).minimize(cost)"
      ],
      "execution_count": 0,
      "outputs": []
    },
    {
      "cell_type": "code",
      "metadata": {
        "id": "sT7CuJgQo_Tw",
        "colab_type": "code",
        "colab": {}
      },
      "source": [
        "# Initializing the variables\n",
        "init = tf.global_variables_initializer()"
      ],
      "execution_count": 0,
      "outputs": []
    },
    {
      "cell_type": "code",
      "metadata": {
        "id": "6V2IsTe_o_UB",
        "colab_type": "code",
        "colab": {
          "base_uri": "https://localhost:8080/",
          "height": 1000
        },
        "outputId": "7017e85d-7081-4566-ff0e-c347e98016dd"
      },
      "source": [
        "# Launch the graph\n",
        "with tf.Session() as sess:\n",
        "    sess.run(init)\n",
        "    total_batch = int(mnist.train.num_examples/batch_size)\n",
        "    # Training cycle\n",
        "    for epoch in range(training_epochs):\n",
        "        # Loop over all batches\n",
        "        for i in range(total_batch):\n",
        "            batch_xs, batch_ys = mnist.train.next_batch(batch_size)\n",
        "            # Run optimization op (backprop) and cost op (to get loss value)\n",
        "            _, c = sess.run([optimizer, cost], feed_dict={X: batch_xs})\n",
        "        # Display logs per epoch step\n",
        "        if epoch % display_step == 0:\n",
        "            print(\"Epoch:\", '%04d' % (epoch+1),\n",
        "                  \"cost=\", \"{:.9f}\".format(c))\n",
        "    print(\"Optimization Finished!\")\n",
        "        # Applying encode and decode over test set\n",
        "    encode_decode = sess.run(\n",
        "        y_pred, feed_dict={X: mnist.test.images[:examples_to_show]})\n",
        "    # Compare original images with their reconstructions\n",
        "    f, a = plt.subplots(2, 10, figsize=(10, 2))\n",
        "    for i in range(examples_to_show):\n",
        "        a[0][i].imshow(np.reshape(mnist.test.images[i], (28, 28)))\n",
        "        a[1][i].imshow(np.reshape(encode_decode[i], (28, 28)))\n"
      ],
      "execution_count": 26,
      "outputs": [
        {
          "output_type": "stream",
          "text": [
            "Epoch: 0001 cost= 0.198798493\n",
            "Epoch: 0002 cost= 0.156265378\n",
            "Epoch: 0003 cost= 0.142789394\n",
            "Epoch: 0004 cost= 0.132892206\n",
            "Epoch: 0005 cost= 0.117954798\n",
            "Epoch: 0006 cost= 0.119127870\n",
            "Epoch: 0007 cost= 0.115764819\n",
            "Epoch: 0008 cost= 0.110322669\n",
            "Epoch: 0009 cost= 0.106329508\n",
            "Epoch: 0010 cost= 0.107395299\n",
            "Epoch: 0011 cost= 0.105718158\n",
            "Epoch: 0012 cost= 0.103147767\n",
            "Epoch: 0013 cost= 0.098322049\n",
            "Epoch: 0014 cost= 0.098544821\n",
            "Epoch: 0015 cost= 0.097968921\n",
            "Epoch: 0016 cost= 0.096187532\n",
            "Epoch: 0017 cost= 0.094183594\n",
            "Epoch: 0018 cost= 0.090972766\n",
            "Epoch: 0019 cost= 0.092637412\n",
            "Epoch: 0020 cost= 0.087325171\n",
            "Epoch: 0021 cost= 0.083093934\n",
            "Epoch: 0022 cost= 0.078531072\n",
            "Epoch: 0023 cost= 0.080822013\n",
            "Epoch: 0024 cost= 0.079101764\n",
            "Epoch: 0025 cost= 0.076844789\n",
            "Epoch: 0026 cost= 0.077061936\n",
            "Epoch: 0027 cost= 0.076900445\n",
            "Epoch: 0028 cost= 0.076919049\n",
            "Epoch: 0029 cost= 0.073501915\n",
            "Epoch: 0030 cost= 0.073829934\n",
            "Epoch: 0031 cost= 0.073715843\n",
            "Epoch: 0032 cost= 0.073133305\n",
            "Epoch: 0033 cost= 0.073959857\n",
            "Epoch: 0034 cost= 0.073453426\n",
            "Epoch: 0035 cost= 0.074514568\n",
            "Epoch: 0036 cost= 0.073241942\n",
            "Epoch: 0037 cost= 0.075753815\n",
            "Epoch: 0038 cost= 0.071962759\n",
            "Epoch: 0039 cost= 0.071764424\n",
            "Epoch: 0040 cost= 0.075589620\n",
            "Epoch: 0041 cost= 0.071402803\n",
            "Epoch: 0042 cost= 0.072071671\n",
            "Epoch: 0043 cost= 0.070590071\n",
            "Epoch: 0044 cost= 0.069574356\n",
            "Epoch: 0045 cost= 0.072414629\n",
            "Epoch: 0046 cost= 0.068353616\n",
            "Epoch: 0047 cost= 0.071303375\n",
            "Epoch: 0048 cost= 0.068782628\n",
            "Epoch: 0049 cost= 0.069343686\n",
            "Epoch: 0050 cost= 0.067512177\n",
            "Epoch: 0051 cost= 0.068483442\n",
            "Epoch: 0052 cost= 0.067396723\n",
            "Epoch: 0053 cost= 0.069304235\n",
            "Epoch: 0054 cost= 0.064026169\n",
            "Epoch: 0055 cost= 0.066949792\n",
            "Epoch: 0056 cost= 0.065026984\n",
            "Epoch: 0057 cost= 0.065347031\n",
            "Epoch: 0058 cost= 0.063543938\n",
            "Epoch: 0059 cost= 0.058979578\n",
            "Epoch: 0060 cost= 0.059461579\n",
            "Optimization Finished!\n"
          ],
          "name": "stdout"
        },
        {
          "output_type": "display_data",
          "data": {
            "image/png": "[encoded data removed]",
            "text/plain": [
              "<Figure size 720x144 with 20 Axes>"
            ]
          },
          "metadata": {
            "tags": []
          }
        }
      ]
    },
    {
      "cell_type": "code",
      "metadata": {
        "id": "xu6BnwN2o_US",
        "colab_type": "code",
        "colab": {
          "base_uri": "https://localhost:8080/",
          "height": 158
        },
        "outputId": "e70fbcc4-cdc0-46d6-9749-96e78a44c0f0"
      },
      "source": [
        "\n",
        "f, a = plt.subplots(2, 10, figsize=(10, 2))\n",
        "for i in range(examples_to_show):\n",
        "    a[0][i].imshow(np.reshape(mnist.test.images[i], (28, 28)))\n",
        "    a[1][i].imshow(np.reshape(encode_decode[i], (28, 28)))\n"
      ],
      "execution_count": 27,
      "outputs": [
        {
          "output_type": "display_data",
          "data": {
            "image/png": "[encoded data removed]",
            "text/plain": [
              "<Figure size 720x144 with 20 Axes>"
            ]
          },
          "metadata": {
            "tags": []
          }
        }
      ]
    },
    {
      "cell_type": "code",
      "metadata": {
        "id": "DztfTYnWo_U7",
        "colab_type": "code",
        "colab": {}
      },
      "source": [
        ""
      ],
      "execution_count": 0,
      "outputs": []
    }
  ]
}