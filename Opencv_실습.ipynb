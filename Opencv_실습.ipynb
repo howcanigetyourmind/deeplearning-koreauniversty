{
  "nbformat": 4,
  "nbformat_minor": 0,
  "metadata": {
    "colab": {
      "name": "Opencv 실습.ipynb",
      "version": "0.3.2",
      "provenance": [],
      "collapsed_sections": [],
      "include_colab_link": true
    },
    "kernelspec": {
      "name": "python3",
      "display_name": "Python 3"
    }
  },
  "cells": [
    {
      "cell_type": "markdown",
      "metadata": {
        "id": "view-in-github",
        "colab_type": "text"
      },
      "source": [
        "<a href=\"https://colab.research.google.com/github/howcanigetyourmind/deeplearning-koreauniversty/blob/master/Opencv_%EC%8B%A4%EC%8A%B5.ipynb\" target=\"_parent\"><img src=\"https://colab.research.google.com/assets/colab-badge.svg\" alt=\"Open In Colab\"/></a>"
      ]
    },
    {
      "cell_type": "code",
      "metadata": {
        "id": "UopdiIXVy2N8",
        "colab_type": "code",
        "colab": {
          "base_uri": "https://localhost:8080/",
          "height": 210
        },
        "outputId": "ef0461c9-8ce1-40e8-e47b-7b6d2d34a447"
      },
      "source": [
        "import numpy as np\n",
        "import cv2\n",
        "\n",
        "!wget http://finfra.com/f/f.png\n",
        "  \n",
        "#load an color image in grayscale\n",
        "\n",
        "image =cv2.imread('f.png',0)\n"
      ],
      "execution_count": 1,
      "outputs": [
        {
          "output_type": "stream",
          "text": [
            "--2019-07-24 16:34:00--  http://finfra.com/f/f.png\n",
            "Resolving finfra.com (finfra.com)... 211.252.85.187\n",
            "Connecting to finfra.com (finfra.com)|211.252.85.187|:80... connected.\n",
            "HTTP request sent, awaiting response... 200 OK\n",
            "Length: 1928 (1.9K) [image/png]\n",
            "Saving to: ‘f.png’\n",
            "\n",
            "\rf.png                 0%[                    ]       0  --.-KB/s               \rf.png               100%[===================>]   1.88K  --.-KB/s    in 0s      \n",
            "\n",
            "2019-07-24 16:34:00 (160 MB/s) - ‘f.png’ saved [1928/1928]\n",
            "\n"
          ],
          "name": "stdout"
        }
      ]
    },
    {
      "cell_type": "code",
      "metadata": {
        "id": "QnRL0igk1TZs",
        "colab_type": "code",
        "colab": {
          "base_uri": "https://localhost:8080/",
          "height": 34
        },
        "outputId": "ed67f61c-1555-428c-cc8b-30aef031ab3b"
      },
      "source": [
        "image.__class__"
      ],
      "execution_count": 3,
      "outputs": [
        {
          "output_type": "execute_result",
          "data": {
            "text/plain": [
              "numpy.ndarray"
            ]
          },
          "metadata": {
            "tags": []
          },
          "execution_count": 3
        }
      ]
    },
    {
      "cell_type": "code",
      "metadata": {
        "id": "LGRlzm-s1ive",
        "colab_type": "code",
        "colab": {
          "base_uri": "https://localhost:8080/",
          "height": 269
        },
        "outputId": "5bf90d97-42f6-4f49-a2c7-7dc0e9737a4b"
      },
      "source": [
        "import matplotlib.pyplot as plt\n",
        "plt.imshow(image, cmap='Greys')\n",
        "plt.show()"
      ],
      "execution_count": 5,
      "outputs": [
        {
          "output_type": "display_data",
          "data": {
            "image/png": "[encoded data removed]",
            "text/plain": [
              "<Figure size 432x288 with 1 Axes>"
            ]
          },
          "metadata": {
            "tags": []
          }
        }
      ]
    }
  ]
}